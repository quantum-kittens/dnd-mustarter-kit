{
 "cells": [
  {
   "cell_type": "markdown",
   "metadata": {},
   "source": [
    "This generates a sequence of unique letters to form a character name. You can order or repeat letters according to your own tastes. It asks you for number of consonants that you want and number of vowels. You are asked for three consonant preferences and one vowel preference in order to create a state to initialize the quantum registers with."
   ]
  },
  {
   "cell_type": "code",
   "execution_count": null,
   "metadata": {},
   "outputs": [],
   "source": []
  },
  {
   "cell_type": "code",
   "execution_count": 1,
   "metadata": {},
   "outputs": [],
   "source": [
    "from qiskit import *\n",
    "import cmd, sys\n",
    "import numpy as np\n",
    "import random\n",
    "\n",
    "#IBMQ.save_account('<insert API token>')\n",
    "\n",
    "\n",
    "def get_letter(state, N): # returns a list of consonants\n",
    "    n = 5 # number of qubits\n",
    "    q = QuantumRegister(n) # create quantum register\n",
    "    circ = QuantumCircuit(q) # create quantum circuit with the register\n",
    "    circ.initialize(state,q) # initialize the register with the state\n",
    "\n",
    "    for i in range(n):\n",
    "        circ.ry(2*np.pi*random.uniform(0.01, 0.9),q[i]) # perturb the probabilities associated with all 32 (2^5) possibilities by performing arbitrary rotations on each qubit\n",
    "\n",
    "    c = ClassicalRegister(n) # create classical register\n",
    "    circ.add_register(c) # add classical register to circuit\n",
    "    circ.measure(q,c)#perform measurement\n",
    "    job = qiskit.execute(circ, qiskit.BasicAer.get_backend('qasm_simulator') ) \n",
    "    result = job.result().get_counts()\n",
    "    letters = []\n",
    "    \n",
    "    for i in range(N):\n",
    "        max_res = max(result, key=result.get)\n",
    "        while(int(max_res,2) > 20): # find max and eliminate if greater than 25\n",
    "            result.pop(str(max_res))\n",
    "            max_res = max(result, key=result.get)\n",
    "        result.pop(str(max_res))\n",
    "        letters.append(dictionary[str(int(max_res,2)+1)])\n",
    "        \n",
    "    return letters\n",
    "\n",
    "def get_vowel(state, Nv): #returns a list of vowels\n",
    "    n = 3\n",
    "    q = QuantumRegister(n)\n",
    "    circ = QuantumCircuit(q)\n",
    "    circ.initialize(state,q)\n",
    "    \n",
    "    for i in range(n):\n",
    "        circ.ry(2*np.pi*random.uniform(0.01, 0.9),q[i])\n",
    "    \n",
    "    c = ClassicalRegister(n)\n",
    "    circ.add_register(c)\n",
    "    circ.measure(q,c)\n",
    "    job = qiskit.execute(circ, qiskit.BasicAer.get_backend('qasm_simulator') )\n",
    "    result = job.result().get_counts()\n",
    "    max_res = max(result, key=result.get)\n",
    "    letters = []\n",
    "    \n",
    "    for i in range(Nv):\n",
    "        max_res = max(result, key=result.get)\n",
    "        while(int(max_res,2) > 4): \n",
    "            result.pop(str(max_res))\n",
    "            max_res = max(result, key=result.get)\n",
    "        result.pop(str(max_res))\n",
    "        letters.append(vowels[str(int(max_res,2)+1)])\n",
    "        \n",
    "    return letters\n"
   ]
  },
  {
   "cell_type": "markdown",
   "metadata": {},
   "source": [
    "Creating the dictionaries, and taking inputs from the user:"
   ]
  },
  {
   "cell_type": "code",
   "execution_count": 2,
   "metadata": {},
   "outputs": [
    {
     "name": "stdout",
     "output_type": "stream",
     "text": [
      "Choose number of consonants: 3\n",
      "Choose number of vowels: 1\n",
      "Choose first consonant (lowercase): t\n",
      "Choose second consonant (lowercase): r\n",
      "Choose third consonant (lowercase): g\n",
      "Choose vowel (lowercase): o\n",
      "['v', 'z', 'x', 'a']\n"
     ]
    }
   ],
   "source": [
    "#### creating the dictionaries, and taking inputs from the user\n",
    "\n",
    "dictionary = {'1':'b','2':'c','3':'d','4':'f','5':'g','6':'h','7':'j','8':'k','9':'l','10':'m','11':'n','12':'p','13':'q','14':'r','15':'s','16':'t','17':'v','18':'w','19':'x','20':'y','21':'z'}\n",
    "\n",
    "reverse_dictionary = {'b':1,'c':2,'d':3,'f':4,'g':5,'h':6,'j':7,'k':8,'l':9,'m':10,'n':11,'p':12,'q':13,'r':14,'s':15,'t':16,'v':17,'w':18,'x':19,'y':20,'z':21}\n",
    "\n",
    "vowels = {'1':'a','2':'e','3':'i', '4':'o','5':'u'}\n",
    "\n",
    "reverse_vowels = {'a':1,'e':2,'i': 3, 'o': 4,'u': 5}\n",
    "\n",
    "N = int(input(\"Choose number of consonants: \" ))\n",
    "\n",
    "if N > 21:\n",
    "    sys.exit(\"Choose a number less than 22!\")\n",
    "    \n",
    "Nv = int(input(\"Choose number of vowels: \" ))\n",
    "\n",
    "if Nv > 5:\n",
    "    sys.exit(\"Choose a number less than 5!\")\n",
    "\n",
    "l1 = input(\"Choose first consonant (lowercase): \" )\n",
    "cons = []\n",
    "if l1 in reverse_dictionary:\n",
    "    cons.append(l1)\n",
    "else:\n",
    "    sys.exit(\"Not a valid consonant!\")\n",
    "\n",
    "l2 = input(\"Choose second consonant (lowercase): \" )\n",
    "\n",
    "if l2 in cons:\n",
    "    sys.exit(\"Choose a unique letter!\")\n",
    "elif l2 in reverse_dictionary:\n",
    "    cons.append(l2)  \n",
    "else: \n",
    "    sys.exit(\"Not a valid consonant!\")\n",
    "    \n",
    "l3 = input(\"Choose third consonant (lowercase): \")\n",
    "\n",
    "if l3 in cons:\n",
    "    sys.exit(\"Choose a unique letter!\")\n",
    "elif l3 in reverse_dictionary:\n",
    "    cons.append(l3)  \n",
    "else:\n",
    "    sys.exit(\"Not a valid consonant!\")\n",
    "    \n",
    "v1 = input(\"Choose vowel (lowercase): \" )\n",
    "\n",
    "if v1 in reverse_vowels:\n",
    "    cons.append(v1)\n",
    "else:\n",
    "    sys.exit(\"Not a valid vowel!\")\n",
    "\n",
    "\n",
    "state = np.zeros(32) # state for a quantum register with 5 qubits (for consonants)\n",
    "state_v = np.zeros(8) # state for register with 3 qubits (for vowels)\n",
    "state[reverse_dictionary[str(l1)]-1] = 1/np.sqrt(3)  # probability is 1/sqrt(3) for the three preferred consonants\n",
    "state[reverse_dictionary[str(l2)]-1] = 1/np.sqrt(3)\n",
    "state[reverse_dictionary[str(l3)]-1] = 1/np.sqrt(3)\n",
    "state_v[reverse_vowels[str(v1)]-1] = 1 # probability is 1 for the preferred vowel\n",
    "\n",
    "\n",
    "word = []\n",
    "word += get_letter(state, N)\n",
    "word = word + get_vowel(state_v, Nv)\n",
    "print(word)\n",
    "\n"
   ]
  },
  {
   "cell_type": "code",
   "execution_count": null,
   "metadata": {
    "collapsed": true
   },
   "outputs": [],
   "source": []
  },
  {
   "cell_type": "code",
   "execution_count": null,
   "metadata": {
    "collapsed": true
   },
   "outputs": [],
   "source": []
  }
 ],
 "metadata": {
  "kernelspec": {
   "display_name": "Python 3",
   "language": "python",
   "name": "python3"
  },
  "language_info": {
   "codemirror_mode": {
    "name": "ipython",
    "version": 3
   },
   "file_extension": ".py",
   "mimetype": "text/x-python",
   "name": "python",
   "nbconvert_exporter": "python",
   "pygments_lexer": "ipython3",
   "version": "3.6.1"
  }
 },
 "nbformat": 4,
 "nbformat_minor": 2
}
