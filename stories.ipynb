{
 "cells": [
  {
   "cell_type": "code",
   "execution_count": 44,
   "metadata": {},
   "outputs": [
    {
     "name": "stdout",
     "output_type": "stream",
     "text": [
      "The autoreload extension is already loaded. To reload it, use:\n",
      "  %reload_ext autoreload\n"
     ]
    }
   ],
   "source": [
    "%load_ext autoreload\n",
    "%autoreload 2\n",
    "\n",
    "from story_generator import StoryGenerator\n",
    "from bank import STORIES_DB\n",
    "from bank import BONUS_SCENE\n",
    "from ansimarkup import ansiprint as print # to print colored words"
   ]
  },
  {
   "cell_type": "code",
   "execution_count": 27,
   "metadata": {},
   "outputs": [],
   "source": [
    "sgr = StoryGenerator(STORIES_DB)"
   ]
  },
  {
   "cell_type": "code",
   "execution_count": 29,
   "metadata": {},
   "outputs": [
    {
     "name": "stdout",
     "output_type": "stream",
     "text": [
      "Choose a animal: cat\n",
      "A \u001b[34mdepraved\u001b[0m sorcerer cursed you: you now turn into a \u001b[31mcat\u001b[0m whenever you get the hiccups.\n"
     ]
    }
   ],
   "source": [
    "story = sgr.generate()\n",
    "print(story)"
   ]
  },
  {
   "cell_type": "code",
   "execution_count": 45,
   "metadata": {},
   "outputs": [],
   "source": [
    "sgr_scene = StoryGenerator(BONUS_SCENE)"
   ]
  },
  {
   "cell_type": "code",
   "execution_count": 46,
   "metadata": {},
   "outputs": [
    {
     "name": "stdout",
     "output_type": "stream",
     "text": [
      "Choose a name: d\n",
      "The \u001b[31mD\u001b[0m is an old tavern, putrid and stained and musky, but welcoming nonetheless. \n",
      " Test\n"
     ]
    }
   ],
   "source": [
    "scene = sgr_scene.generate()\n",
    "print(scene)"
   ]
  },
  {
   "cell_type": "code",
   "execution_count": null,
   "metadata": {},
   "outputs": [],
   "source": [
    "\n"
   ]
  },
  {
   "cell_type": "code",
   "execution_count": null,
   "metadata": {},
   "outputs": [],
   "source": []
  }
 ],
 "metadata": {
  "kernelspec": {
   "display_name": "Python 3",
   "language": "python",
   "name": "python3"
  },
  "language_info": {
   "codemirror_mode": {
    "name": "ipython",
    "version": 3
   },
   "file_extension": ".py",
   "mimetype": "text/x-python",
   "name": "python",
   "nbconvert_exporter": "python",
   "pygments_lexer": "ipython3",
   "version": "3.6.1"
  },
  "name": "stories.ipynb"
 },
 "nbformat": 4,
 "nbformat_minor": 4
}
