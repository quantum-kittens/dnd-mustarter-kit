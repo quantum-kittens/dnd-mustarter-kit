{
 "cells": [
  {
   "cell_type": "code",
   "execution_count": 1,
   "metadata": {
    "collapsed": false
   },
   "outputs": [],
   "source": [
    "from dnd import QuantumDice"
   ]
  },
  {
   "cell_type": "code",
   "execution_count": 2,
   "metadata": {
    "collapsed": false
   },
   "outputs": [],
   "source": [
    "d20 = QuantumDice(20)"
   ]
  },
  {
   "cell_type": "code",
   "execution_count": 3,
   "metadata": {
    "collapsed": false
   },
   "outputs": [
    {
     "data": {
      "text/plain": [
       "([13, 4, 14, 10, 12, 9, 16, 12, 16, 5, 8, 16, 4, 18, 17, 8, 9, 5, 12, 6], 218)"
      ]
     },
     "execution_count": 3,
     "metadata": {},
     "output_type": "execute_result"
    }
   ],
   "source": [
    "d20.roll(20, 4)"
   ]
  }
 ],
 "metadata": {
  "kernelspec": {
   "argv": [
    "/home/soham/Documents/quantum_computing/qiskit/.qiskit-venv/bin/python",
    "-m",
    "ipykernel_launcher",
    "-f",
    "{connection_file}"
   ],
   "display_name": "Python 3 (qiskit)",
   "env": null,
   "interrupt_mode": "signal",
   "language": "python",
   "metadata": null,
   "name": ".qiskit-venv"
  },
  "name": "qrandom.ipynb"
 },
 "nbformat": 4,
 "nbformat_minor": 4
}
