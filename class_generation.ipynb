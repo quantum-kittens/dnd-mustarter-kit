{
 "cells": [
  {
   "cell_type": "code",
   "execution_count": null,
   "metadata": {
    "collapsed": false
   },
   "outputs": [],
   "source": [
    "%load_ext autoreload\n",
    "%autoreload 2"
   ]
  },
  {
   "cell_type": "markdown",
   "metadata": {
    "collapsed": false
   },
   "source": [
    "The ClassGenerator takes as input one of the races in the list below, and optionally a IBMQ backend, and the number of shots. The generate method produces a list of classes, arranged in an approximately descending order with respect to synergy between race and class. "
   ]
  },
  {
   "cell_type": "code",
   "execution_count": 19,
   "metadata": {
    "collapsed": false
   },
   "outputs": [],
   "source": [
    "from class_generator import ClassGenerator, RACES"
   ]
  },
  {
   "cell_type": "code",
   "execution_count": 16,
   "metadata": {
    "collapsed": false
   },
   "outputs": [
    {
     "data": {
      "text/plain": [
       "['Dragonborn',\n",
       " 'Hill Dwarf',\n",
       " 'Mountain Dwarf',\n",
       " 'Dark Elf',\n",
       " 'High Elf',\n",
       " 'Wood Elf',\n",
       " 'Deep Gnome',\n",
       " 'Forest Gnome',\n",
       " 'Rock Gnome',\n",
       " 'Half-Elf',\n",
       " 'Lightfoot Halfling',\n",
       " 'Stout Halfling',\n",
       " 'Half-Orc',\n",
       " 'Variant Human',\n",
       " 'Human',\n",
       " 'Tiefling']"
      ]
     },
     "execution_count": 16,
     "metadata": {},
     "output_type": "execute_result"
    }
   ],
   "source": [
    "RACES"
   ]
  },
  {
   "cell_type": "code",
   "execution_count": 29,
   "metadata": {
    "collapsed": false
   },
   "outputs": [
    {
     "data": {
      "text/plain": [
       "['Fighter (Eldritch Knight)',\n",
       " 'Cleric',\n",
       " 'Druid',\n",
       " 'Paladin',\n",
       " 'Wizard',\n",
       " 'Fighter (Str)',\n",
       " 'Warlock',\n",
       " 'Barbarian',\n",
       " 'Rogue',\n",
       " 'Ranger (Dex)',\n",
       " 'Sorceror',\n",
       " 'Monk',\n",
       " 'Bard',\n",
       " 'Fighter (Dex)',\n",
       " 'Ranger (Str)',\n",
       " 'Rogue (Arcane Trickster)']"
      ]
     },
     "execution_count": 29,
     "metadata": {},
     "output_type": "execute_result"
    }
   ],
   "source": [
    "vhg = ClassGenerator(\"Variant Human\")\n",
    "vhg.generate()"
   ]
  },
  {
   "cell_type": "code",
   "execution_count": 30,
   "metadata": {
    "collapsed": false
   },
   "outputs": [
    {
     "data": {
      "text/plain": [
       "['Fighter (Dex)',\n",
       " 'Barbarian',\n",
       " 'Rogue (Arcane Trickster)',\n",
       " 'Paladin',\n",
       " 'Fighter (Eldritch Knight)',\n",
       " 'Cleric',\n",
       " 'Bard',\n",
       " 'Fighter (Str)',\n",
       " 'Warlock',\n",
       " 'Ranger (Str)',\n",
       " 'Sorceror',\n",
       " 'Ranger (Dex)',\n",
       " 'Monk',\n",
       " 'Druid',\n",
       " 'Wizard',\n",
       " 'Rogue']"
      ]
     },
     "execution_count": 30,
     "metadata": {},
     "output_type": "execute_result"
    }
   ],
   "source": [
    "dgb = ClassGenerator(\"Dragonborn\")\n",
    "dgb.generate()"
   ]
  },
  {
   "cell_type": "code",
   "execution_count": 31,
   "metadata": {
    "collapsed": false
   },
   "outputs": [
    {
     "data": {
      "text/plain": [
       "['Barbarian',\n",
       " 'Cleric',\n",
       " 'Paladin',\n",
       " 'Ranger (Str)',\n",
       " 'Fighter (Dex)',\n",
       " 'Fighter (Eldritch Knight)',\n",
       " 'Bard',\n",
       " 'Druid',\n",
       " 'Warlock',\n",
       " 'Rogue (Arcane Trickster)',\n",
       " 'Rogue',\n",
       " 'Monk',\n",
       " 'Ranger (Dex)',\n",
       " 'Fighter (Str)',\n",
       " 'Sorceror',\n",
       " 'Wizard']"
      ]
     },
     "execution_count": 31,
     "metadata": {},
     "output_type": "execute_result"
    }
   ],
   "source": [
    "md = ClassGenerator(\"Mountain Dwarf\")\n",
    "md.generate()"
   ]
  }
 ],
 "metadata": {
  "kernelspec": {
   "argv": [
    "/home/soham/Documents/quantum_computing/qiskit/.qiskit-venv/bin/python",
    "-m",
    "ipykernel_launcher",
    "-f",
    "{connection_file}"
   ],
   "display_name": "Python 3 (qiskit)",
   "env": null,
   "interrupt_mode": "signal",
   "language": "python",
   "metadata": null,
   "name": ".qiskit-venv"
  },
  "name": "class_generation.ipynb"
 },
 "nbformat": 4,
 "nbformat_minor": 4
}
